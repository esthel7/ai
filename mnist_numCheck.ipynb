{
  "cells": [
    {
      "cell_type": "code",
      "execution_count": 2,
      "metadata": {
        "id": "g4lPpVDNCGAS"
      },
      "outputs": [],
      "source": [
        "#사용할 라이브러리\n",
        "\n",
        "from tensorflow.keras.models import Sequential #sequential은 순차적인 인공 신경망 레이어\n",
        "#tensorflow(딥러닝 생성 도와주는 라이브러리) 쉽게 사용하도록 하는 keras\n",
        "\n",
        "from tensorflow.keras.layers import Dense, Activation \n",
        "#Dense는 모든 인공신경망 레이어 연결되어있는것, Activation은 활성화함수(레이어 사이에 위치, 값 가중)\n",
        "\n",
        "from tensorflow.keras.utils import to_categorical #0~9까지 구분해주는 to_categorical 함수\n",
        "from tensorflow.keras.datasets import mnist\n",
        "\n",
        "import numpy as np #numpy 라이브러리를 np 이름으로 호출\n",
        "import matplotlib.pyplot as plt #matplot은 그래프 라이브러리, pyplot은 그림그리기 => 결과를 그래프로 확인"
      ]
    },
    {
      "cell_type": "code",
      "execution_count": null,
      "metadata": {
        "id": "nwKZqncoJgNm"
      },
      "outputs": [],
      "source": [
        "#mnist 데이터셋에서 데이터 가져오기\n",
        "\n",
        "(x_train, y_train), (x_test, y_test)=mnist.load_data() #mnist 데이터셋에서 데이터 가져오기\n",
        "#mnist에는 데이터가 4종류로 구분, 학습 데이터 x,y & 테스트 데이터 x,y\n",
        "#y_train은 x_train의 정답\n",
        "\n",
        "print(\"x_train shape\", x_train.shape) #x_train은 28pixel*28pixel 사이즈의 데이터가 60000개\n",
        "print(\"y_train shape\", x_train.shape) #y_train은 60000개\n",
        "print(\"x_test shape\", x_test.shape) #x_test는 28pixel*28pixel 사이즈의 데이터가 10000개\n",
        "print(\"y_test shape\", y_test.shape) #y_test는 10000개"
      ]
    },
    {
      "cell_type": "code",
      "execution_count": 4,
      "metadata": {
        "id": "LPPnt868Ote1"
      },
      "outputs": [],
      "source": [
        "#mnist 데이터셋에서 가져온 데이터 변경\n",
        "\n",
        "X_train=x_train.reshape(60000, 784) #28pixel*28pixel을 1*784pixel로 변환\n",
        "X_test=x_test.reshape(10000, 784)\n",
        "\n",
        "X_train=X_train.astype('float32') #데이터 정규화. 0~255에서 0~1로 변경(편차 줄이기위함)위해 실수형으로 바꿈\n",
        "X_test=X_test.astype('float32')\n",
        "X_train/=255 # 0~255를 0~1사이 값으로 변경\n",
        "X_test/=255\n",
        "\n",
        "Y_train=to_categorical(y_train, 10) #60000개 데이터를 10개로 분류 => 분류 더 잘함\n",
        "Y_test=to_categorical(y_test, 10)\n"
      ]
    },
    {
      "cell_type": "code",
      "execution_count": null,
      "metadata": {
        "id": "jFGXY4AnSU0B"
      },
      "outputs": [],
      "source": [
        "#모델 설계\n",
        "\n",
        "model=Sequential() #딥러닝 모델 쉽게 개발하도록\n",
        "model.add(Dense(512, input_shape=(784,))) #add는 층 추가. 784개 데이터로 다음 층으로 이동(노드 512개)\n",
        "model.add(Activation('relu')) #활성화함수 relu 사용\n",
        "model.add(Dense(256)) #다음층으로 이동(노드 256개)\n",
        "model.add(Activation('relu'))\n",
        "model.add(Dense(10)) #이미지를 10개로 분류하기 위해 노드 10개\n",
        "model.add(Activation('softmax')) #활성화함수 softmax 사용 => 가장 높은 확률의 값으로 분류\n",
        "model.summary() #모델이 어떻게 구성되었는지 살펴보기"
      ]
    },
    {
      "cell_type": "code",
      "execution_count": null,
      "metadata": {
        "id": "cR_tU6jZW6Ru"
      },
      "outputs": [],
      "source": [
        "#딥러닝으로 모델 학습\n",
        "\n",
        "model.compile(loss='categorical_crossentropy', optimizer='adam', metrics=['accuracy'])\n",
        "#compile은 keras가 제공하는 심층 신경망의 학습하는 방법\n",
        "#categorical_crossentropy는 다중분류 오차값 계산, optimizer는 오차 줄이기, accuracy는 정답 비율 알려줌\n",
        "\n",
        "model.fit(X_train, Y_train, batch_size=128, epochs=10, verbose=1) #fit은 모델 학습\n",
        "#학습할 데이터, 정답 데이터, 한번에 학습할 데이터, 반복 학습, fit함수 결과값 순으로 입력\n",
        "#verbose 0은 아무런 표시 하지 않음, 1은 진행 사항 알려줌, 2는 학습 결과 알려줌 "
      ]
    },
    {
      "cell_type": "code",
      "execution_count": null,
      "metadata": {
        "id": "T-xeCc2pOdGm"
      },
      "outputs": [],
      "source": [
        "#테스트용 데이터 넣어보기\n",
        "\n",
        "score=model.evaluate(X_test, Y_test)\n",
        "print('Test score:',score[0]) #오차값 0~1 사이로 출력됨, 0에 가까울수록 좋음\n",
        "print('Test accuracy:',score[1]) #정확도 0~1사이로 출력됨, 1에 가까울수록 좋음"
      ]
    },
    {
      "cell_type": "code",
      "execution_count": null,
      "metadata": {
        "id": "a-TsPLa6PYoB"
      },
      "outputs": [],
      "source": [
        "#모델 학습 결과 확인하기\n",
        "\n",
        "predicted_classes=np.argmax(model.predict(X_test),axis=1) #predict함수는 결과 예측 함수\n",
        "#axis가 1이면 가로 중에서 가장 큰 수, 0이면 세로 중에서 가장 큰 수\n",
        "\n",
        "correct_indices=np.nonzero(predicted_classes==y_test)[0] #예측값 맞으면 1. nonzero함수가 1 위치 찾아 넣음\n",
        "incorrect_indices=np.nonzero(predicted_classes!=y_test)[0] #예측값 틀리면 1"
      ]
    }
  ],
  "metadata": {
    "colab": {
      "provenance": []
    },
    "kernelspec": {
      "display_name": "Python 3.8.2 32-bit",
      "language": "python",
      "name": "python3"
    },
    "language_info": {
      "name": "python",
      "version": "3.8.2"
    },
    "vscode": {
      "interpreter": {
        "hash": "f323e8a835a57763c3ed4a562450218f94f2415b2e16fa16f6e34ad5cca1084c"
      }
    }
  },
  "nbformat": 4,
  "nbformat_minor": 0
}
