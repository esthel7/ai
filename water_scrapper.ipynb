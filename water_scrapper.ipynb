{
  "nbformat": 4,
  "nbformat_minor": 0,
  "metadata": {
    "colab": {
      "provenance": [],
      "authorship_tag": "ABX9TyOEezuDBv2kJayK/Vdqq3W+",
      "include_colab_link": true
    },
    "kernelspec": {
      "name": "python3",
      "display_name": "Python 3"
    },
    "language_info": {
      "name": "python"
    }
  },
  "cells": [
    {
      "cell_type": "markdown",
      "metadata": {
        "id": "view-in-github",
        "colab_type": "text"
      },
      "source": [
        "<a href=\"https://colab.research.google.com/github/esthel7/ai/blob/master/water_scrapper.ipynb\" target=\"_parent\"><img src=\"https://colab.research.google.com/assets/colab-badge.svg\" alt=\"Open In Colab\"/></a>"
      ]
    },
    {
      "cell_type": "code",
      "source": [
        "pip install selenium"
      ],
      "metadata": {
        "colab": {
          "base_uri": "https://localhost:8080/"
        },
        "id": "u4wqp-uvcD9S",
        "outputId": "aaf15160-2b17-425b-9f6c-ca67740aa4c8"
      },
      "execution_count": 11,
      "outputs": [
        {
          "output_type": "stream",
          "name": "stdout",
          "text": [
            "Looking in indexes: https://pypi.org/simple, https://us-python.pkg.dev/colab-wheels/public/simple/\n",
            "Requirement already satisfied: selenium in /usr/local/lib/python3.7/dist-packages (4.6.1)\n",
            "Requirement already satisfied: trio-websocket~=0.9 in /usr/local/lib/python3.7/dist-packages (from selenium) (0.9.2)\n",
            "Requirement already satisfied: urllib3[socks]~=1.26 in /usr/local/lib/python3.7/dist-packages (from selenium) (1.26.13)\n",
            "Requirement already satisfied: certifi>=2021.10.8 in /usr/local/lib/python3.7/dist-packages (from selenium) (2022.9.24)\n",
            "Requirement already satisfied: trio~=0.17 in /usr/local/lib/python3.7/dist-packages (from selenium) (0.22.0)\n",
            "Requirement already satisfied: outcome in /usr/local/lib/python3.7/dist-packages (from trio~=0.17->selenium) (1.2.0)\n",
            "Requirement already satisfied: exceptiongroup>=1.0.0rc9 in /usr/local/lib/python3.7/dist-packages (from trio~=0.17->selenium) (1.0.4)\n",
            "Requirement already satisfied: attrs>=19.2.0 in /usr/local/lib/python3.7/dist-packages (from trio~=0.17->selenium) (22.1.0)\n",
            "Requirement already satisfied: sortedcontainers in /usr/local/lib/python3.7/dist-packages (from trio~=0.17->selenium) (2.4.0)\n",
            "Requirement already satisfied: idna in /usr/local/lib/python3.7/dist-packages (from trio~=0.17->selenium) (2.10)\n",
            "Requirement already satisfied: sniffio in /usr/local/lib/python3.7/dist-packages (from trio~=0.17->selenium) (1.3.0)\n",
            "Requirement already satisfied: async-generator>=1.9 in /usr/local/lib/python3.7/dist-packages (from trio~=0.17->selenium) (1.10)\n",
            "Requirement already satisfied: wsproto>=0.14 in /usr/local/lib/python3.7/dist-packages (from trio-websocket~=0.9->selenium) (1.2.0)\n",
            "Requirement already satisfied: PySocks!=1.5.7,<2.0,>=1.5.6 in /usr/local/lib/python3.7/dist-packages (from urllib3[socks]~=1.26->selenium) (1.7.1)\n",
            "Requirement already satisfied: h11<1,>=0.9.0 in /usr/local/lib/python3.7/dist-packages (from wsproto>=0.14->trio-websocket~=0.9->selenium) (0.14.0)\n",
            "Requirement already satisfied: typing-extensions in /usr/local/lib/python3.7/dist-packages (from h11<1,>=0.9.0->wsproto>=0.14->trio-websocket~=0.9->selenium) (4.1.1)\n"
          ]
        }
      ]
    },
    {
      "cell_type": "code",
      "source": [
        "pip install urllib"
      ],
      "metadata": {
        "colab": {
          "base_uri": "https://localhost:8080/"
        },
        "id": "FwWZfE5ackj2",
        "outputId": "61513d45-4a1e-4fe1-b692-cd70d150710a"
      },
      "execution_count": 12,
      "outputs": [
        {
          "output_type": "stream",
          "name": "stdout",
          "text": [
            "Looking in indexes: https://pypi.org/simple, https://us-python.pkg.dev/colab-wheels/public/simple/\n",
            "\u001b[31mERROR: Could not find a version that satisfies the requirement urllib (from versions: none)\u001b[0m\n",
            "\u001b[31mERROR: No matching distribution found for urllib\u001b[0m\n"
          ]
        }
      ]
    },
    {
      "cell_type": "code",
      "execution_count": 13,
      "metadata": {
        "id": "LqMjDBPXTWDD"
      },
      "outputs": [],
      "source": [
        "# 필요한 라이브러리 불러오기\n",
        "\n",
        "from selenium import webdriver \n",
        "#selenium은 브라우저를 자동화시킴. 자동으로 페이지 열고 실행하도록(사람이 하는 것처럼)\n",
        "#webdriver는 파이썬이 브라우저를 시작하도록 함\n",
        "\n",
        "from urllib.request import urlopen ##인터넷 리소스 가져오기\n",
        "from selenium.webdriver.common.keys import Keys #자동으로 키보드 눌리게하기 위함\n",
        "import time\n",
        "import urllib.request #url 가져오기\n",
        "import os\n",
        "from selenium.common.exceptions import NoSuchElementException #try, except, if 사용하기\n",
        "from selenium.common.exceptions import ElementNotVisibleException #페이지 렌더링 되기 전 시간 대기하기\n",
        "from selenium.webdriver.common.by import By #더 쉬운 함수 사용 위함"
      ]
    },
    {
      "cell_type": "code",
      "source": [
        "#구글 드라이브 연결\n",
        "\n",
        "from google.colab import drive\n",
        "drive.mount('/content/drive')"
      ],
      "metadata": {
        "colab": {
          "base_uri": "https://localhost:8080/"
        },
        "id": "J8G9DO49Uig4",
        "outputId": "455b8cc8-17bc-4072-b27c-89924ac7904d"
      },
      "execution_count": 14,
      "outputs": [
        {
          "output_type": "stream",
          "name": "stdout",
          "text": [
            "Drive already mounted at /content/drive; to attempt to forcibly remount, call drive.mount(\"/content/drive\", force_remount=True).\n"
          ]
        }
      ]
    },
    {
      "cell_type": "code",
      "source": [
        "#크롬 드라이버 사용하기\n",
        "\n",
        "!apt install chromium-chromedriver"
      ],
      "metadata": {
        "colab": {
          "base_uri": "https://localhost:8080/"
        },
        "id": "tldcy9x4bzdZ",
        "outputId": "8d11d6f5-27e4-41c4-8988-6caaa33a7747"
      },
      "execution_count": 15,
      "outputs": [
        {
          "output_type": "stream",
          "name": "stdout",
          "text": [
            "Reading package lists... Done\n",
            "Building dependency tree       \n",
            "Reading state information... Done\n",
            "chromium-chromedriver is already the newest version (107.0.5304.87-0ubuntu11.18.04.1).\n",
            "The following package was automatically installed and is no longer required:\n",
            "  libnvidia-common-460\n",
            "Use 'apt autoremove' to remove it.\n",
            "0 upgraded, 0 newly installed, 0 to remove and 5 not upgraded.\n"
          ]
        }
      ]
    },
    {
      "cell_type": "code",
      "source": [
        "#크롬 웹드라이버 연결\n",
        "\n",
        "chrome_options = webdriver.ChromeOptions() #여기부터 \n",
        "chrome_options.add_argument('--headless')\n",
        "chrome_options.add_argument('--no-sandbox')\n",
        "chrome_options.add_argument('--disable-dev-shm-usage') #여기까지 colab에서 돌리기 위한 코드..? (원래는 주피터)\n",
        "\n",
        "driver = webdriver.Chrome(\"chromedriver\", chrome_options=chrome_options)\n",
        "driver.get(\"https://www.google.co.kr/imghp?hl=ko&ogbl\") # 구글 이미지 검색 url"
      ],
      "metadata": {
        "colab": {
          "base_uri": "https://localhost:8080/"
        },
        "id": "fWPy1zOIUB--",
        "outputId": "614e136b-e514-42e6-f546-ad4998ba9811"
      },
      "execution_count": 16,
      "outputs": [
        {
          "output_type": "stream",
          "name": "stderr",
          "text": [
            "/usr/local/lib/python3.7/dist-packages/ipykernel_launcher.py:12: DeprecationWarning: use options instead of chrome_options\n",
            "  if sys.path[0] == '':\n"
          ]
        }
      ]
    },
    {
      "cell_type": "code",
      "source": [
        "#검색어 입력하기\n",
        "\n",
        "search = \"침수\"\n",
        "elem = driver.find_element(By.CSS_SELECTOR, '[name=\"q\"]') #css 찾기\n",
        "elem.send_keys(search) #검색창에 검색할 내용(name)넣기\n",
        "elem.send_keys(Keys.RETURN) #검색할 내용을 넣고 enter를 치기"
      ],
      "metadata": {
        "id": "s6BDnOByUqLu"
      },
      "execution_count": 17,
      "outputs": []
    },
    {
      "cell_type": "code",
      "source": [
        "#스크롤 끝까지 내리기 - 스크롤을 내리면 새로운 브라우저가 갱신되기 때문\n",
        "\n",
        "SCROLL_PAUSE_TIME = 1\n",
        "\n",
        "last_height = driver.execute_script(\"return document.body.scrollHeight\") #브라우저의 높이를 자바스크립트로 찾음\n",
        "\n",
        "while True:\n",
        "  driver.execute_script(\"window.scrollTo(0, document.body.scrollHeight);\") # 브라우저 끝까지 스크롤을 내림\n",
        "  time.sleep(SCROLL_PAUSE_TIME) #페이지 로드되기 기다리기\n",
        "  new_height = driver.execute_script(\"return document.body.scrollHeight\") #새 브라우저 높이 계산\n",
        "\n",
        "  if new_height == last_height:\n",
        "    try:\n",
        "      driver.find_element_by_css_selector(\".mye4qd\").click() #스크롤을 내리다가 \"결과 더보기\" 뜨면 클릭\n",
        "    except: #더이상 내릴 스크롤이 없음\n",
        "      break\n",
        "  last_height = new_height"
      ],
      "metadata": {
        "id": "kMW6rTk7VJIm"
      },
      "execution_count": 18,
      "outputs": []
    },
    {
      "cell_type": "code",
      "source": [
        "#이미지 찾아서 원본 파일로 저장하기\n",
        "\n",
        "images = driver.find_elements(By.CSS_SELECTOR,\".rg_i.Q4LuWd\") #작게 뜬 이미지들 모두 선택(elements)\n",
        "count = 1\n",
        "\n",
        "for image in images:\n",
        "  if count>400: #400개 이상 크롤링하면 정확도가 떨어짐\n",
        "    break\n",
        "  try:\n",
        "    image.click()\n",
        "    time.sleep(2)\n",
        "    imgUrl = driver.find_element(By.CSS_SELECTOR,'#Sva75c > div > div > div.dFMRD > div.pxAole > div.tvh9oe.BIB1wf > c-wiz > div.nIWXKc.JgfpDb.cZEg1e > div.OUZ5W > div.zjoqD > div.qdnLaf.isv-id.b0vFpe > div > a > img').get_attribute(\"src\")\n",
        "    # 크게 뜬 이미지 선택하여 Copy selector로 받아온 경로를 설정\n",
        "\n",
        "    print(imgUrl)\n",
        "    \n",
        "    urllib.request.urlretrieve(imgUrl, \"/content/drive/MyDrive/goodde_image/\" + search + \"_\" + str(count) + \".jpg\")\n",
        "    # goodde_image 라는 폴더는 구글 드라이브 제일 루트 위치에\n",
        "\n",
        "    print(\"Image saved: {}_{}.jpg\".format(search, count)) #{}에 들어갈 수를 format함수를 통해 전달\n",
        "    count += 1\n",
        "  except:\n",
        "    pass\n",
        "\n",
        "driver.close()"
      ],
      "metadata": {
        "colab": {
          "base_uri": "https://localhost:8080/"
        },
        "id": "3dfI9Y8iVbOM",
        "outputId": "45c9c06f-040b-40e6-e837-75be7138350a"
      },
      "execution_count": 19,
      "outputs": [
        {
          "output_type": "stream",
          "name": "stdout",
          "text": [
            "https://img.hankyung.com/photo/202208/01.30877354.1.jpg\n",
            "Image saved: 침수_1.jpg\n",
            "https://images.chosun.com/resizer/FEWiO52xH80ukuXRUxlmxXF2ElY=/616x0/smart/cloudfront-ap-northeast-1.images.arcpublishing.com/chosun/7NFKWPITH7HGLH2445CJ2ST2UE.jpg\n",
            "Image saved: 침수_2.jpg\n",
            "https://www.socialfocus.co.kr/news/photo/202008/8328_13098_5138.jpg\n",
            "Image saved: 침수_3.jpg\n",
            "https://img.khan.co.kr/news/2022/08/08/news-p.v1.20220808.8d0fc8f80d8140ada1c571f5376d0dab_P1.jpg\n",
            "Image saved: 침수_4.jpg\n",
            "https://newsimg.sedaily.com/2020/08/07/1Z6HJTPI7L_1.jpg\n",
            "Image saved: 침수_5.jpg\n"
          ]
        }
      ]
    }
  ]
}