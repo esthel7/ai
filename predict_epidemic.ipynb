{
  "nbformat": 4,
  "nbformat_minor": 0,
  "metadata": {
    "colab": {
      "provenance": [],
      "authorship_tag": "ABX9TyOAMYBdu5retC5/0oEe2wI2",
      "include_colab_link": true
    },
    "kernelspec": {
      "name": "python3",
      "display_name": "Python 3"
    },
    "language_info": {
      "name": "python"
    }
  },
  "cells": [
    {
      "cell_type": "markdown",
      "metadata": {
        "id": "view-in-github",
        "colab_type": "text"
      },
      "source": [
        "<a href=\"https://colab.research.google.com/github/esthel7/ai/blob/master/predict_epidemic.ipynb\" target=\"_parent\"><img src=\"https://colab.research.google.com/assets/colab-badge.svg\" alt=\"Open In Colab\"/></a>"
      ]
    },
    {
      "cell_type": "code",
      "execution_count": 27,
      "metadata": {
        "id": "MztFWLouXzO3"
      },
      "outputs": [],
      "source": [
        "#사용할 라이브러리\n",
        "\n",
        "from keras.models import Sequential #sequential 모델 불러오기\n",
        "from keras.layers import SimpleRNN, Dense #RNN은 순환 신경망, simpleRNN은 간단한 순환 신경망\n",
        "#순환 신경망은 이전의 연속된 데이터 사용하여 이후의 값 예측\n",
        "#Dense는 각 레이어에서의 뉴런의 수\n",
        "\n",
        "from sklearn.preprocessing import MinMaxScaler #MinMaxScale는 정규화함수, sklearn 라이브러리 속에 있음\n",
        "from sklearn.metrics import mean_squared_error #mean_squared_error는 정확도 계산 위해 오차값 계산\n",
        "from sklearn.model_selection import train_test_split #데이터를 학습데이터와 검증데이터로 나눔(성능측정위함)\n",
        "import math #수학 계산\n",
        "import numpy as np #수학 계산 라이브러리를 np 이름으로 불러옴\n",
        "import matplotlib.pyplot as plt #그래프 그리기 위함\n",
        "from pandas import read_csv #pandas는 데이터 잘 처리하도록하는 라이브러리, csv 파일 불러옴"
      ]
    },
    {
      "cell_type": "code",
      "source": [
        "#깃허브 데이터 가져오기\n",
        "\n",
        "!git clone https://github.com/yhlee1627/deeplearning.git #mnist는 keras 안의 데이터, git은 외부데이터\n",
        "dataframe=read_csv('/content/deeplearning/corona_daily.csv',usecols=[3],engine='python',skipfooter=3)\n",
        "#해당 git의 deeplearning파트에서 corona_daily.csv 불러오기\n",
        "#usecols는 해당 열만 불러오는 것으로, 4번째 열만 사용\n",
        "\n",
        "print(dataframe)\n",
        "dataset=dataframe.values #데이터만 사용\n",
        "datatset=dataset.astype('float32') #데이터 정규화(0~1로 변환 = 성능 향상) 위해 실수로 변환"
      ],
      "metadata": {
        "colab": {
          "base_uri": "https://localhost:8080/"
        },
        "id": "lZH_ezpPTRNj",
        "outputId": "ee1bd75b-812e-44c8-f58e-b0b15f86daef"
      },
      "execution_count": 2,
      "outputs": [
        {
          "output_type": "stream",
          "name": "stdout",
          "text": [
            "Cloning into 'deeplearning'...\n",
            "remote: Enumerating objects: 5, done.\u001b[K\n",
            "remote: Counting objects: 100% (5/5), done.\u001b[K\n",
            "remote: Compressing objects: 100% (3/3), done.\u001b[K\n",
            "remote: Total 5 (delta 0), reused 0 (delta 0), pack-reused 0\u001b[K\n",
            "Unpacking objects: 100% (5/5), done.\n",
            "     Confirmed\n",
            "0           24\n",
            "1           24\n",
            "2           27\n",
            "3           27\n",
            "4           28\n",
            "..         ...\n",
            "107      11190\n",
            "108      11206\n",
            "109      11225\n",
            "110      11265\n",
            "111      11344\n",
            "\n",
            "[112 rows x 1 columns]\n"
          ]
        }
      ]
    },
    {
      "cell_type": "code",
      "source": [
        "#데이터 정규화 및 분류\n",
        "\n",
        "scaler=MinMaxScaler(feature_range=(0,1)) #데이터를 0~1사이로 정규화하기 위한 함수\n",
        "Dataset=scaler.fit_transform(dataset) #데이터 정규화\n",
        "train_data, test_data=train_test_split(Dataset, test_size=0.2, shuffle=False) \n",
        "#학습 데이터, 테스트 데이터로 나눔. 테스트 데이터를 20%. 성능 정확히 측정하기 위함\n",
        "#shuffle은 무작위 추출. 코로나 데이터를 예측하기 위함으로 무작위 추출이 아닌 앞선 데이터만 학습 데이터로\n",
        "\n",
        "print(len(train_data), len(test_data))"
      ],
      "metadata": {
        "colab": {
          "base_uri": "https://localhost:8080/"
        },
        "id": "fMD5wxvhV1W4",
        "outputId": "eca23a5c-51cf-4f76-dd61-ef001046bdfb"
      },
      "execution_count": 3,
      "outputs": [
        {
          "output_type": "stream",
          "name": "stdout",
          "text": [
            "89 23\n"
          ]
        }
      ]
    },
    {
      "cell_type": "code",
      "source": [
        "#데이터 형태 변경하기\n",
        "\n",
        "def create_dataset(dataset, look_back): #원래의 데이터, 연속되는 데이터의 개수\n",
        "  x_data=[]\n",
        "  y_data=[]\n",
        "  for i in range(len(dataset)-look_back):\n",
        "    data=dataset[i:(i+look_back),0]\n",
        "    x_data.append(data)\n",
        "    y_data.append(dataset[i+look_back,0])\n",
        "  return np.array(x_data), np.array(y_data) #배열로 변환"
      ],
      "metadata": {
        "id": "PSWrPf7BXGrL"
      },
      "execution_count": 4,
      "outputs": []
    },
    {
      "cell_type": "code",
      "source": [
        "#입력 데이터 생성하기\n",
        "\n",
        "look_back=3 \n",
        "#며칠동안 연속된 데이터를 사용할 지 지정\n",
        "#오래된 날짜를 한번에 학습할 경우 오류 생길 가능성 많음, 3일마다 한번씩 예측해서 학습시키기\n",
        "#1~3일로 4일 예측, 2~4일로 5일 예측 ...\n",
        "\n",
        "x_train, y_train=create_dataset(train_data, look_back)\n",
        "x_test, y_test=create_dataset(test_data, look_back)\n",
        "print(x_train.shape, y_train.shape) #x_train은 3개씩 86줄\n",
        "print(x_test.shape, y_test.shape) #x_test는 3개씩  20줄"
      ],
      "metadata": {
        "colab": {
          "base_uri": "https://localhost:8080/"
        },
        "id": "8CNJBK_KmSMP",
        "outputId": "8410e857-7a85-4c56-d496-56b2d9347660"
      },
      "execution_count": 5,
      "outputs": [
        {
          "output_type": "stream",
          "name": "stdout",
          "text": [
            "(86, 3) (86,)\n",
            "(20, 3) (20,)\n"
          ]
        }
      ]
    },
    {
      "cell_type": "code",
      "source": [
        "#인공지능 모델에 넣어줄 형태로 변환하기\n",
        "\n",
        "X_train=np.reshape(x_train, (x_train.shape[0], 1, x_train.shape[1])) #형태 바꿔주는 reshape 함수\n",
        "#원래 데이터인 x_train(86줄)을 1*3(x_train.shape[1])로 만들기 (2차원에서 3차원으로)\n",
        "\n",
        "X_test=np.reshape(x_test, (x_test.shape[0], 1, x_test.shape[1]))\n",
        "print(X_train.shape) #1*3으로 구성된 데이터가 86개\n",
        "print(X_test.shape) #1*3으로 구성된 데이터가 20개"
      ],
      "metadata": {
        "colab": {
          "base_uri": "https://localhost:8080/"
        },
        "id": "1qKE36gvn0ob",
        "outputId": "4b46df0e-b7ac-40b5-ed97-b7f4473a1c14"
      },
      "execution_count": 6,
      "outputs": [
        {
          "output_type": "stream",
          "name": "stdout",
          "text": [
            "(86, 1, 3)\n",
            "(20, 1, 3)\n"
          ]
        }
      ]
    },
    {
      "cell_type": "code",
      "source": [
        "#인공지능 모델\n",
        "\n",
        "model=Sequential() #순환신경망은 레이어들이 선형으로 연결된 모습이라 sequential로 설정\n",
        "model.add(SimpleRNN(3, input_shape=(1, look_back))) #뉴런의 수는 3개, input data로 1*(look_back)값 넣기\n",
        "model.add(Dense(1, activation=\"linear\")) #최종 예측값은 연속된 데이터 이후 값&1개이므로 1개 노드로 구성\n",
        "model.compile(loss='mse', optimizer='adam') #계산방법 결정, 손실함수는 mse사용(평균 제곱 오차, 음수계산때문)\n",
        "#optimizer는 오차 줄이기, adam 사용\n",
        "\n",
        "model.summary() #모델이 어떻게 구성되었는지 살펴보기"
      ],
      "metadata": {
        "colab": {
          "base_uri": "https://localhost:8080/"
        },
        "id": "Y4EoPsooqImh",
        "outputId": "ec01d04a-3567-4076-d322-2cd18f6bd0b4"
      },
      "execution_count": 7,
      "outputs": [
        {
          "output_type": "stream",
          "name": "stdout",
          "text": [
            "Model: \"sequential\"\n",
            "_________________________________________________________________\n",
            " Layer (type)                Output Shape              Param #   \n",
            "=================================================================\n",
            " simple_rnn (SimpleRNN)      (None, 3)                 21        \n",
            "                                                                 \n",
            " dense (Dense)               (None, 1)                 4         \n",
            "                                                                 \n",
            "=================================================================\n",
            "Total params: 25\n",
            "Trainable params: 25\n",
            "Non-trainable params: 0\n",
            "_________________________________________________________________\n"
          ]
        }
      ]
    },
    {
      "cell_type": "code",
      "source": [
        "#모델 학습시키기\n",
        "\n",
        "model.fit(X_train, y_train, epochs=100, batch_size=1, verbose=1)\n",
        "#입력데이터, 출력데이터, 학습반복수, 한번에 학습시킬 데이터 양\n",
        "#verbose 0은 아무런 표시 하지 않음, 1은 진행 사항 알려줌, 2는 학습 결과 알려줌 "
      ],
      "metadata": {
        "colab": {
          "base_uri": "https://localhost:8080/"
        },
        "id": "naK_G8S4tleh",
        "outputId": "f674694b-56f2-4602-f576-1df72954271a"
      },
      "execution_count": 8,
      "outputs": [
        {
          "output_type": "stream",
          "name": "stdout",
          "text": [
            "Epoch 1/100\n",
            "86/86 [==============================] - 1s 2ms/step - loss: 0.7673\n",
            "Epoch 2/100\n",
            "86/86 [==============================] - 0s 2ms/step - loss: 0.4228\n",
            "Epoch 3/100\n",
            "86/86 [==============================] - 0s 2ms/step - loss: 0.1997\n",
            "Epoch 4/100\n",
            "86/86 [==============================] - 0s 2ms/step - loss: 0.0942\n",
            "Epoch 5/100\n",
            "86/86 [==============================] - 0s 2ms/step - loss: 0.0580\n",
            "Epoch 6/100\n",
            "86/86 [==============================] - 0s 2ms/step - loss: 0.0447\n",
            "Epoch 7/100\n",
            "86/86 [==============================] - 0s 2ms/step - loss: 0.0376\n",
            "Epoch 8/100\n",
            "86/86 [==============================] - 0s 2ms/step - loss: 0.0317\n",
            "Epoch 9/100\n",
            "86/86 [==============================] - 0s 2ms/step - loss: 0.0264\n",
            "Epoch 10/100\n",
            "86/86 [==============================] - 0s 2ms/step - loss: 0.0213\n",
            "Epoch 11/100\n",
            "86/86 [==============================] - 0s 2ms/step - loss: 0.0171\n",
            "Epoch 12/100\n",
            "86/86 [==============================] - 0s 2ms/step - loss: 0.0133\n",
            "Epoch 13/100\n",
            "86/86 [==============================] - 0s 2ms/step - loss: 0.0101\n",
            "Epoch 14/100\n",
            "86/86 [==============================] - 0s 2ms/step - loss: 0.0075\n",
            "Epoch 15/100\n",
            "86/86 [==============================] - 0s 2ms/step - loss: 0.0054\n",
            "Epoch 16/100\n",
            "86/86 [==============================] - 0s 2ms/step - loss: 0.0039\n",
            "Epoch 17/100\n",
            "86/86 [==============================] - 0s 2ms/step - loss: 0.0027\n",
            "Epoch 18/100\n",
            "86/86 [==============================] - 0s 2ms/step - loss: 0.0019\n",
            "Epoch 19/100\n",
            "86/86 [==============================] - 0s 2ms/step - loss: 0.0014\n",
            "Epoch 20/100\n",
            "86/86 [==============================] - 0s 2ms/step - loss: 0.0010\n",
            "Epoch 21/100\n",
            "86/86 [==============================] - 0s 2ms/step - loss: 7.8793e-04\n",
            "Epoch 22/100\n",
            "86/86 [==============================] - 0s 2ms/step - loss: 6.5300e-04\n",
            "Epoch 23/100\n",
            "86/86 [==============================] - 0s 2ms/step - loss: 5.7073e-04\n",
            "Epoch 24/100\n",
            "86/86 [==============================] - 0s 2ms/step - loss: 5.3322e-04\n",
            "Epoch 25/100\n",
            "86/86 [==============================] - 0s 2ms/step - loss: 5.1472e-04\n",
            "Epoch 26/100\n",
            "86/86 [==============================] - 0s 2ms/step - loss: 5.0016e-04\n",
            "Epoch 27/100\n",
            "86/86 [==============================] - 0s 2ms/step - loss: 4.9420e-04\n",
            "Epoch 28/100\n",
            "86/86 [==============================] - 0s 2ms/step - loss: 4.9546e-04\n",
            "Epoch 29/100\n",
            "86/86 [==============================] - 0s 2ms/step - loss: 4.8923e-04\n",
            "Epoch 30/100\n",
            "86/86 [==============================] - 0s 2ms/step - loss: 4.8740e-04\n",
            "Epoch 31/100\n",
            "86/86 [==============================] - 0s 2ms/step - loss: 4.8184e-04\n",
            "Epoch 32/100\n",
            "86/86 [==============================] - 0s 2ms/step - loss: 4.7249e-04\n",
            "Epoch 33/100\n",
            "86/86 [==============================] - 0s 2ms/step - loss: 4.7269e-04\n",
            "Epoch 34/100\n",
            "86/86 [==============================] - 0s 2ms/step - loss: 4.7340e-04\n",
            "Epoch 35/100\n",
            "86/86 [==============================] - 0s 2ms/step - loss: 4.6181e-04\n",
            "Epoch 36/100\n",
            "86/86 [==============================] - 0s 2ms/step - loss: 4.6698e-04\n",
            "Epoch 37/100\n",
            "86/86 [==============================] - 0s 2ms/step - loss: 4.7301e-04\n",
            "Epoch 38/100\n",
            "86/86 [==============================] - 0s 2ms/step - loss: 4.7193e-04\n",
            "Epoch 39/100\n",
            "86/86 [==============================] - 0s 2ms/step - loss: 4.7050e-04\n",
            "Epoch 40/100\n",
            "86/86 [==============================] - 0s 2ms/step - loss: 4.5373e-04\n",
            "Epoch 41/100\n",
            "86/86 [==============================] - 0s 2ms/step - loss: 4.4633e-04\n",
            "Epoch 42/100\n",
            "86/86 [==============================] - 0s 2ms/step - loss: 4.5505e-04\n",
            "Epoch 43/100\n",
            "86/86 [==============================] - 0s 2ms/step - loss: 4.5892e-04\n",
            "Epoch 44/100\n",
            "86/86 [==============================] - 0s 2ms/step - loss: 4.3208e-04\n",
            "Epoch 45/100\n",
            "86/86 [==============================] - 0s 2ms/step - loss: 4.3631e-04\n",
            "Epoch 46/100\n",
            "86/86 [==============================] - 0s 2ms/step - loss: 4.3842e-04\n",
            "Epoch 47/100\n",
            "86/86 [==============================] - 0s 2ms/step - loss: 4.3858e-04\n",
            "Epoch 48/100\n",
            "86/86 [==============================] - 0s 2ms/step - loss: 4.1627e-04\n",
            "Epoch 49/100\n",
            "86/86 [==============================] - 0s 2ms/step - loss: 4.1595e-04\n",
            "Epoch 50/100\n",
            "86/86 [==============================] - 0s 2ms/step - loss: 4.2403e-04\n",
            "Epoch 51/100\n",
            "86/86 [==============================] - 0s 2ms/step - loss: 4.6442e-04\n",
            "Epoch 52/100\n",
            "86/86 [==============================] - 0s 2ms/step - loss: 4.1876e-04\n",
            "Epoch 53/100\n",
            "86/86 [==============================] - 0s 2ms/step - loss: 4.2243e-04\n",
            "Epoch 54/100\n",
            "86/86 [==============================] - 0s 2ms/step - loss: 4.2739e-04\n",
            "Epoch 55/100\n",
            "86/86 [==============================] - 0s 2ms/step - loss: 4.1438e-04\n",
            "Epoch 56/100\n",
            "86/86 [==============================] - 0s 2ms/step - loss: 4.1895e-04\n",
            "Epoch 57/100\n",
            "86/86 [==============================] - 0s 2ms/step - loss: 4.0252e-04\n",
            "Epoch 58/100\n",
            "86/86 [==============================] - 0s 2ms/step - loss: 4.1045e-04\n",
            "Epoch 59/100\n",
            "86/86 [==============================] - 0s 2ms/step - loss: 4.0784e-04\n",
            "Epoch 60/100\n",
            "86/86 [==============================] - 0s 2ms/step - loss: 4.1108e-04\n",
            "Epoch 61/100\n",
            "86/86 [==============================] - 0s 5ms/step - loss: 3.8614e-04\n",
            "Epoch 62/100\n",
            "86/86 [==============================] - 0s 2ms/step - loss: 3.8931e-04\n",
            "Epoch 63/100\n",
            "86/86 [==============================] - 0s 2ms/step - loss: 3.5980e-04\n",
            "Epoch 64/100\n",
            "86/86 [==============================] - 0s 2ms/step - loss: 4.1721e-04\n",
            "Epoch 65/100\n",
            "86/86 [==============================] - 1s 6ms/step - loss: 3.7527e-04\n",
            "Epoch 66/100\n",
            "86/86 [==============================] - 0s 2ms/step - loss: 3.8037e-04\n",
            "Epoch 67/100\n",
            "86/86 [==============================] - 0s 2ms/step - loss: 4.0605e-04\n",
            "Epoch 68/100\n",
            "86/86 [==============================] - 0s 2ms/step - loss: 4.0135e-04\n",
            "Epoch 69/100\n",
            "86/86 [==============================] - 0s 4ms/step - loss: 3.8389e-04\n",
            "Epoch 70/100\n",
            "86/86 [==============================] - 0s 3ms/step - loss: 4.1523e-04\n",
            "Epoch 71/100\n",
            "86/86 [==============================] - 0s 2ms/step - loss: 3.8165e-04\n",
            "Epoch 72/100\n",
            "86/86 [==============================] - 0s 2ms/step - loss: 3.5603e-04\n",
            "Epoch 73/100\n",
            "86/86 [==============================] - 0s 2ms/step - loss: 3.5994e-04\n",
            "Epoch 74/100\n",
            "86/86 [==============================] - 0s 2ms/step - loss: 3.4988e-04\n",
            "Epoch 75/100\n",
            "86/86 [==============================] - 0s 2ms/step - loss: 3.5054e-04\n",
            "Epoch 76/100\n",
            "86/86 [==============================] - 0s 2ms/step - loss: 3.6242e-04\n",
            "Epoch 77/100\n",
            "86/86 [==============================] - 0s 2ms/step - loss: 3.5110e-04\n",
            "Epoch 78/100\n",
            "86/86 [==============================] - 0s 2ms/step - loss: 3.0902e-04\n",
            "Epoch 79/100\n",
            "86/86 [==============================] - 0s 2ms/step - loss: 3.6079e-04\n",
            "Epoch 80/100\n",
            "86/86 [==============================] - 0s 2ms/step - loss: 3.6722e-04\n",
            "Epoch 81/100\n",
            "86/86 [==============================] - 0s 2ms/step - loss: 3.3128e-04\n",
            "Epoch 82/100\n",
            "86/86 [==============================] - 0s 2ms/step - loss: 3.5202e-04\n",
            "Epoch 83/100\n",
            "86/86 [==============================] - 0s 2ms/step - loss: 3.3757e-04\n",
            "Epoch 84/100\n",
            "86/86 [==============================] - 0s 2ms/step - loss: 3.4186e-04\n",
            "Epoch 85/100\n",
            "86/86 [==============================] - 0s 2ms/step - loss: 3.2927e-04\n",
            "Epoch 86/100\n",
            "86/86 [==============================] - 0s 2ms/step - loss: 3.3241e-04\n",
            "Epoch 87/100\n",
            "86/86 [==============================] - 0s 2ms/step - loss: 3.4591e-04\n",
            "Epoch 88/100\n",
            "86/86 [==============================] - 0s 2ms/step - loss: 3.0160e-04\n",
            "Epoch 89/100\n",
            "86/86 [==============================] - 0s 2ms/step - loss: 3.1052e-04\n",
            "Epoch 90/100\n",
            "86/86 [==============================] - 0s 2ms/step - loss: 3.1102e-04\n",
            "Epoch 91/100\n",
            "86/86 [==============================] - 0s 2ms/step - loss: 2.9906e-04\n",
            "Epoch 92/100\n",
            "86/86 [==============================] - 0s 3ms/step - loss: 3.0825e-04\n",
            "Epoch 93/100\n",
            "86/86 [==============================] - 0s 2ms/step - loss: 3.0385e-04\n",
            "Epoch 94/100\n",
            "86/86 [==============================] - 0s 2ms/step - loss: 2.8684e-04\n",
            "Epoch 95/100\n",
            "86/86 [==============================] - 0s 2ms/step - loss: 2.9508e-04\n",
            "Epoch 96/100\n",
            "86/86 [==============================] - 0s 2ms/step - loss: 3.2336e-04\n",
            "Epoch 97/100\n",
            "86/86 [==============================] - 0s 2ms/step - loss: 3.4313e-04\n",
            "Epoch 98/100\n",
            "86/86 [==============================] - 0s 2ms/step - loss: 2.7805e-04\n",
            "Epoch 99/100\n",
            "86/86 [==============================] - 0s 2ms/step - loss: 2.8957e-04\n",
            "Epoch 100/100\n",
            "86/86 [==============================] - 0s 2ms/step - loss: 2.9531e-04\n"
          ]
        },
        {
          "output_type": "execute_result",
          "data": {
            "text/plain": [
              "<keras.callbacks.History at 0x7f8f20a80d90>"
            ]
          },
          "metadata": {},
          "execution_count": 8
        }
      ]
    },
    {
      "cell_type": "code",
      "source": [
        "#데이터 예측하기\n",
        "\n",
        "trainPredict=model.predict(X_train) #모델이 결괏값 생성하는 predict 함수, 반환값은 0~1 사이\n",
        "testPredict=model.predict(X_test)\n",
        "TrainPredict=scaler.inverse_transform(trainPredict) #0~1 사이의 값을 실제 데이터로 변환 - scaler 함수\n",
        "Y_train=scaler.inverse_transform([y_train])\n",
        "TestPredict=scaler.inverse_transform(testPredict)\n",
        "Y_test=scaler.inverse_transform([y_test])"
      ],
      "metadata": {
        "id": "I05YnSE1uKhb",
        "colab": {
          "base_uri": "https://localhost:8080/"
        },
        "outputId": "6b04d1ed-0b7c-4fb9-ac51-102fd6b749b9"
      },
      "execution_count": 9,
      "outputs": [
        {
          "output_type": "stream",
          "name": "stdout",
          "text": [
            "3/3 [==============================] - 0s 4ms/step\n",
            "1/1 [==============================] - 0s 20ms/step\n"
          ]
        }
      ]
    },
    {
      "cell_type": "code",
      "source": [
        "#모델의 정확도 살펴보기\n",
        "\n",
        "trainScore=math.sqrt(mean_squared_error(Y_train[0], TrainPredict[:,0])) #sqrt는 루트\n",
        "#mead_squared_error는 정확도 계산 위해 오차값 계산 (실제값과 예측값 비교)\n",
        "#Y_train[0]은 실제 정답값 전체\n",
        "\n",
        "print('Train Score: %.2f RMSE' %(trainScore)) #학습데이터의 오차값\n",
        "testScore=math.sqrt(mean_squared_error(Y_test[0], TestPredict[:,0]))\n",
        "print('Test Score: %.2f RMSE' %(testScore)) #테스트데이터의 오차값"
      ],
      "metadata": {
        "colab": {
          "base_uri": "https://localhost:8080/"
        },
        "id": "K6O8SqcUiy09",
        "outputId": "06970c54-1ea9-4e54-eb7e-7d4f5d4116c4"
      },
      "execution_count": 13,
      "outputs": [
        {
          "output_type": "stream",
          "name": "stdout",
          "text": [
            "Train Score: 196.96 RMSE\n",
            "Test Score: 323.84 RMSE\n"
          ]
        }
      ]
    },
    {
      "cell_type": "code",
      "source": [
        "#결과를 그래프로 확인\n",
        "\n",
        "trainPredictPlot=np.empty_like(dataset, dtype='float32') #dataset(float)과 동일한 크기의 빈 배열 만들기\n",
        "trainPredictPlot[:,:]=np.nan #nan을 써서 값 없음, 그래프 그릴 도화지 깨끗하게 만들기 위함\n",
        "trainPredictPlot[look_back:len(TrainPredict)+look_back, :]=TrainPredict\n",
        "#1~3일차를 통해 4일차 예측한게 첫 데이터이므로, look_back만큼 더한 값으로 시작\n",
        "\n",
        "testPredictPlot=np.empty_like(dataset, dtype='float32')\n",
        "testPredictPlot[:,:]=np.nan\n",
        "testPredictPlot[len(TrainPredict)+(look_back)*2:len(dataset),:]=TestPredict\n",
        "#처음 3일(look_back) 후 trainPredict, 3일 후 testPrecit 이므로 look_back 2번 곲해준 값 더하기\n",
        "\n",
        "plt.plot(dataset) #그래프로 그리기\n",
        "plt.plot(trainPredictPlot)\n",
        "plt.plot(testPredictPlot)\n",
        "plt.show() #화면에 나타내기\n",
        "\n",
        "#파란선은 실제 데이터, 주황색은 학습 데이터, 초록색은 예측 데이터"
      ],
      "metadata": {
        "colab": {
          "base_uri": "https://localhost:8080/",
          "height": 265
        },
        "id": "NVNlQPdvkPcs",
        "outputId": "63c5a4a6-1f60-4664-e308-aad35da85cf0"
      },
      "execution_count": 48,
      "outputs": [
        {
          "output_type": "display_data",
          "data": {
            "text/plain": [
              "<Figure size 432x288 with 1 Axes>"
            ],
            "image/png": "[encoded data removed]"
          },
          "metadata": {
            "needs_background": "light"
          }
        }
      ]
    }
  ]
}